{
 "metadata": {
  "language_info": {
   "codemirror_mode": {
    "name": "ipython",
    "version": 3
   },
   "file_extension": ".py",
   "mimetype": "text/x-python",
   "name": "python",
   "nbconvert_exporter": "python",
   "pygments_lexer": "ipython3",
   "version": "3.9.2-final"
  },
  "orig_nbformat": 2,
  "kernelspec": {
   "name": "python392jvsc74a57bd0e1ea7b2c4390b6fc1a6745bf6c3375d16393508e059a95c8d09ca3ce58c8786e",
   "display_name": "Python 3.9.2 64-bit"
  }
 },
 "nbformat": 4,
 "nbformat_minor": 2,
 "cells": [
  {
   "source": [
    "# Imports"
   ],
   "cell_type": "markdown",
   "metadata": {}
  },
  {
   "cell_type": "code",
   "execution_count": 13,
   "metadata": {},
   "outputs": [],
   "source": [
    "import pandas as pd\n",
    "import numpy as np\n",
    "import matplotlib.pyplot as plt\n",
    "from sklearn.model_selection import train_test_split\n",
    "\n",
    "import torch\n",
    "from torch import nn\n",
    "from torch import optim\n",
    "from torch.nn import functional as F\n",
    "from torch.optim.lr_scheduler import _LRScheduler\n",
    "from torch.utils.data import TensorDataset, DataLoader"
   ]
  },
  {
   "cell_type": "code",
   "execution_count": 14,
   "metadata": {},
   "outputs": [
    {
     "output_type": "execute_result",
     "data": {
      "text/plain": [
       "         date  user_id  playtime    logins  target\n",
       "0  2021-03-01        0  0.206765  0.205667       1\n",
       "1  2021-03-02        0  0.757943  0.753918       1\n",
       "2  2021-03-03        0  0.204527  0.203441       1\n",
       "3  2021-03-04        0  0.405417  0.403264       1\n",
       "4  2021-03-01        1  0.858625  0.854065       0"
      ],
      "text/html": "<div>\n<style scoped>\n    .dataframe tbody tr th:only-of-type {\n        vertical-align: middle;\n    }\n\n    .dataframe tbody tr th {\n        vertical-align: top;\n    }\n\n    .dataframe thead th {\n        text-align: right;\n    }\n</style>\n<table border=\"1\" class=\"dataframe\">\n  <thead>\n    <tr style=\"text-align: right;\">\n      <th></th>\n      <th>date</th>\n      <th>user_id</th>\n      <th>playtime</th>\n      <th>logins</th>\n      <th>target</th>\n    </tr>\n  </thead>\n  <tbody>\n    <tr>\n      <th>0</th>\n      <td>2021-03-01</td>\n      <td>0</td>\n      <td>0.206765</td>\n      <td>0.205667</td>\n      <td>1</td>\n    </tr>\n    <tr>\n      <th>1</th>\n      <td>2021-03-02</td>\n      <td>0</td>\n      <td>0.757943</td>\n      <td>0.753918</td>\n      <td>1</td>\n    </tr>\n    <tr>\n      <th>2</th>\n      <td>2021-03-03</td>\n      <td>0</td>\n      <td>0.204527</td>\n      <td>0.203441</td>\n      <td>1</td>\n    </tr>\n    <tr>\n      <th>3</th>\n      <td>2021-03-04</td>\n      <td>0</td>\n      <td>0.405417</td>\n      <td>0.403264</td>\n      <td>1</td>\n    </tr>\n    <tr>\n      <th>4</th>\n      <td>2021-03-01</td>\n      <td>1</td>\n      <td>0.858625</td>\n      <td>0.854065</td>\n      <td>0</td>\n    </tr>\n  </tbody>\n</table>\n</div>"
     },
     "metadata": {},
     "execution_count": 14
    }
   ],
   "source": [
    "no_users = 50\n",
    "seq_len = 4\n",
    "var_1 = np.random.uniform(0,1,no_users*seq_len)\n",
    "mu, sigma = 0, 0.1 # mean and standard deviation\n",
    "s = np.random.normal(mu, sigma, seq_len)\n",
    "corr_factors = 1+s\n",
    "\n",
    "data = {'date': np.tile(np.array(['2021-03-01', '2021-03-02', '2021-03-03', '2021-03-04']), no_users), \n",
    "        'user_id': np.repeat(np.array([range(no_users)]),seq_len),\n",
    "        'playtime': var_1,\n",
    "        'logins': var_1 * np.repeat(corr_factors,no_users),\n",
    "        'target': np.repeat(np.random.randint(2, size=no_users),seq_len)}\n",
    "df = pd.DataFrame.from_dict(data)\n",
    "df.head()"
   ]
  },
  {
   "cell_type": "code",
   "execution_count": 16,
   "metadata": {},
   "outputs": [
    {
     "output_type": "execute_result",
     "data": {
      "text/plain": [
       "array([[[0.20676549, 0.75794302, 0.20452662, 0.40541737],\n",
       "        [0.20566748, 0.75391804, 0.2034405 , 0.40326444]],\n",
       "\n",
       "       [[0.85862457, 0.98935219, 0.16736154, 0.30483113],\n",
       "        [0.85406494, 0.98409834, 0.16647278, 0.30321235]],\n",
       "\n",
       "       [[0.05357769, 0.56437058, 0.50396775, 0.73634384],\n",
       "        [0.05329317, 0.56137355, 0.50129148, 0.73243357]]])"
      ]
     },
     "metadata": {},
     "execution_count": 16
    }
   ],
   "source": [
    "features=['playtime', 'logins']\n",
    "\n",
    "x = np.swapaxes(df[features].values.reshape(no_users, seq_len, -1),1,2)\n",
    "x[:3]"
   ]
  },
  {
   "cell_type": "code",
   "execution_count": 17,
   "metadata": {},
   "outputs": [
    {
     "output_type": "execute_result",
     "data": {
      "text/plain": [
       "array([1, 0, 1])"
      ]
     },
     "metadata": {},
     "execution_count": 17
    }
   ],
   "source": [
    "y = df.groupby('user_id').target.max().values\n",
    "y[:3]"
   ]
  },
  {
   "cell_type": "code",
   "execution_count": 18,
   "metadata": {},
   "outputs": [
    {
     "output_type": "execute_result",
     "data": {
      "text/plain": [
       "((50, 2, 4), (50,))"
      ]
     },
     "metadata": {},
     "execution_count": 18
    }
   ],
   "source": [
    "x.shape, y.shape"
   ]
  },
  {
   "source": [
    "## to dataset and dataloader"
   ],
   "cell_type": "markdown",
   "metadata": {}
  },
  {
   "cell_type": "code",
   "execution_count": 19,
   "metadata": {},
   "outputs": [],
   "source": [
    "def create_datasets(data, target, train_size, valid_pct=0.1, seed=None):\n",
    "    \"\"\"Converts NumPy arrays into PyTorch datsets.\"\"\"\n",
    "    \n",
    "    sz = train_size\n",
    "    idx = np.arange(sz)\n",
    "    trn_idx, val_idx = train_test_split(\n",
    "        idx, test_size=valid_pct, random_state=seed)\n",
    "    trn_ds = TensorDataset(\n",
    "        torch.tensor(data[:sz][trn_idx]).float(), \n",
    "        torch.tensor(target[:sz][trn_idx]).long())\n",
    "    val_ds = TensorDataset(\n",
    "        torch.tensor(data[:sz][val_idx]).float(), \n",
    "        torch.tensor(target[:sz][val_idx]).long())\n",
    "    tst_ds = TensorDataset(\n",
    "        torch.tensor(data[sz:]).float(),  \n",
    "        torch.tensor(target[sz:]).long())\n",
    "    return trn_ds, val_ds, tst_ds"
   ]
  },
  {
   "cell_type": "code",
   "execution_count": 20,
   "metadata": {},
   "outputs": [],
   "source": [
    "def create_loaders(data, bs=128, jobs=0):\n",
    "    \"\"\"Wraps the datasets returned by create_datasets function with data loaders.\"\"\"\n",
    "    \n",
    "    trn_ds, val_ds, tst_ds = data\n",
    "    trn_dl = DataLoader(trn_ds, batch_size=bs, shuffle=True, num_workers=jobs)\n",
    "    val_dl = DataLoader(val_ds, batch_size=bs, shuffle=False, num_workers=jobs)\n",
    "    tst_dl = DataLoader(tst_ds, batch_size=bs, shuffle=False, num_workers=jobs)\n",
    "    return trn_dl, val_dl, tst_dl"
   ]
  },
  {
   "cell_type": "code",
   "execution_count": 23,
   "metadata": {},
   "outputs": [],
   "source": [
    "device = torch.device('cuda:0' if torch.cuda.is_available() else 'cpu')\n",
    "trn_sz=40\n",
    "datasets = create_datasets(x, y, trn_sz, seed=1234)\n",
    "trn_dl, val_dl, tst_dl = create_loaders(datasets, bs=256)"
   ]
  },
  {
   "source": [
    "# Define Model"
   ],
   "cell_type": "markdown",
   "metadata": {}
  },
  {
   "cell_type": "code",
   "execution_count": null,
   "metadata": {},
   "outputs": [],
   "source": [
    "class _SepConv1d(nn.Module):\n",
    "    \"\"\"A simple separable convolution implementation.\n",
    "    \n",
    "    The separable convlution is a method to reduce number of the parameters \n",
    "    in the deep learning network for slight decrease in predictions quality.\n",
    "    \"\"\"\n",
    "    def __init__(self, ni, no, kernel, stride, pad):\n",
    "        super().__init__()\n",
    "        self.depthwise = nn.Conv1d(ni, ni, kernel, stride, padding=pad, groups=ni)\n",
    "        self.pointwise = nn.Conv1d(ni, no, kernel_size=1)\n",
    "\n",
    "    def forward(self, x):\n",
    "        return self.pointwise(self.depthwise(x))"
   ]
  },
  {
   "cell_type": "code",
   "execution_count": null,
   "metadata": {},
   "outputs": [],
   "source": [
    "class SepConv1d(nn.Module):\n",
    "    \"\"\"Implementes a 1-d convolution with 'batteries included'.\n",
    "    \n",
    "    The module adds (optionally) activation function and dropout layers right after\n",
    "    a separable convolution layer.\n",
    "    \"\"\"\n",
    "    def __init__(self, ni, no, kernel, stride, pad, drop=None,\n",
    "                 activ=lambda: nn.ReLU(inplace=True)):\n",
    "    \n",
    "        super().__init__()\n",
    "        assert drop is None or (0.0 < drop < 1.0)\n",
    "        layers = [_SepConv1d(ni, no, kernel, stride, pad)]\n",
    "        if activ:\n",
    "            layers.append(activ())\n",
    "        if drop is not None:\n",
    "            layers.append(nn.Dropout(drop))\n",
    "        self.layers = nn.Sequential(*layers)\n",
    "        \n",
    "    def forward(self, x): \n",
    "        return self.layers(x)"
   ]
  },
  {
   "cell_type": "code",
   "execution_count": null,
   "metadata": {},
   "outputs": [],
   "source": [
    "class Flatten(nn.Module):\n",
    "    \"\"\"Converts N-dimensional tensor into 'flat' one.\"\"\"\n",
    "\n",
    "    def __init__(self, keep_batch_dim=True):\n",
    "        super().__init__()\n",
    "        self.keep_batch_dim = keep_batch_dim\n",
    "\n",
    "    def forward(self, x):\n",
    "        if self.keep_batch_dim:\n",
    "            return x.view(x.size(0), -1)\n",
    "        return x.view(-1)"
   ]
  },
  {
   "cell_type": "code",
   "execution_count": null,
   "metadata": {},
   "outputs": [],
   "source": [
    "class Classifier(nn.Module):\n",
    "    def __init__(self, raw_ni, no, drop=.5):\n",
    "        super().__init__()\n",
    "        \n",
    "        # no_input, no_output, kernel, stride, padding\n",
    "        # mit kernel=2 wird in diesem Fall immer eine seq_len gekillt, was dazu führt, dass nach 2 Convolutions keine Conv1d mehr möglich ist. Das später anpassen\n",
    "        self.raw = nn.Sequential(\n",
    "            SepConv1d(raw_ni,  32, 2, 1, 0, drop=drop),\n",
    "            SepConv1d(    32,  64, 2, 1, 0, drop=drop),\n",
    "            SepConv1d(    64,  256, 2, 2, 0, drop=drop),\n",
    "            # SepConv1d(    64, 128, 2, 1, 0, drop=drop),\n",
    "            # SepConv1d(   128, 256, 2, 1, 0),\n",
    "            Flatten(),\n",
    "            nn.Dropout(drop), nn.Linear(256, 64), nn.ReLU(inplace=True),\n",
    "            nn.Dropout(drop), nn.Linear( 64, 64), nn.ReLU(inplace=True))\n",
    "        \n",
    "        self.out = nn.Sequential(\n",
    "            nn.Linear(64, 64), nn.ReLU(inplace=True), nn.Linear(64, no))\n",
    "        \n",
    "    def forward(self, t_raw):\n",
    "        raw_out = self.raw(t_raw)\n",
    "        out = self.out(raw_out)\n",
    "        return out"
   ]
  },
  {
   "cell_type": "code",
   "execution_count": null,
   "metadata": {},
   "outputs": [],
   "source": [
    "raw_feat = x.shape[1]\n",
    "\n",
    "lr = 0.001\n",
    "n_epochs = 1000\n",
    "iterations_per_epoch = len(trn_dl)\n",
    "num_classes = 2\n",
    "best_acc = 0\n",
    "patience, trials = 1500, 0\n",
    "base = 1\n",
    "step = 2\n",
    "loss_history = []\n",
    "acc_history = []\n",
    "\n",
    "model = Classifier(raw_feat, num_classes).to(device)\n",
    "criterion = nn.CrossEntropyLoss()\n",
    "opt = optim.Adam(model.parameters(), lr=lr)"
   ]
  },
  {
   "cell_type": "code",
   "execution_count": null,
   "metadata": {},
   "outputs": [],
   "source": [
    "for epoch in range(1):\n",
    "    model.train()\n",
    "    epoch_loss = 0\n",
    "    for i, batch in enumerate(trn_dl):\n",
    "        x_raw, y_batch = [t.to(device) for t in batch]\n",
    "x_raw.shape"
   ]
  },
  {
   "cell_type": "code",
   "execution_count": null,
   "metadata": {},
   "outputs": [],
   "source": [
    "raw_ni=x.shape[1] # input feature\n",
    "drop=0.3\n",
    "m = SepConv1d(raw_ni,  32, 2, 1, 0, drop=drop)\n",
    "output_ = m(x_raw)\n",
    "m = SepConv1d(32,  64, 2, 1, 0, drop=drop)\n",
    "output_ = m(output_)\n",
    "m = SepConv1d(64,  256, 2, 2, 0, drop=drop)\n",
    "output_ = m(output_)"
   ]
  },
  {
   "cell_type": "code",
   "execution_count": null,
   "metadata": {},
   "outputs": [],
   "source": [
    "output_.shape"
   ]
  },
  {
   "cell_type": "code",
   "execution_count": null,
   "metadata": {},
   "outputs": [],
   "source": [
    "trn_sz = 5"
   ]
  },
  {
   "cell_type": "code",
   "execution_count": null,
   "metadata": {},
   "outputs": [],
   "source": [
    "print('Start model training')\n",
    "\n",
    "for epoch in range(1, n_epochs + 1):\n",
    "    \n",
    "    model.train()\n",
    "    epoch_loss = 0\n",
    "    for i, batch in enumerate(trn_dl):\n",
    "        x_raw, y_batch = [t.to(device) for t in batch]\n",
    "        opt.zero_grad()\n",
    "        out = model(x_raw)\n",
    "        loss = criterion(out, y_batch)\n",
    "        epoch_loss += loss.item()\n",
    "        loss.backward()\n",
    "        opt.step()\n",
    "        \n",
    "    epoch_loss /= trn_sz\n",
    "    loss_history.append(epoch_loss)\n",
    "    \n",
    "    model.eval()\n",
    "    correct, total = 0, 0\n",
    "    for batch in trn_dl:  # muss noch auf val_loader angepasst werden\n",
    "        x_raw, y_batch = [t.to(device) for t in batch]\n",
    "        out = model(x_raw)\n",
    "        preds = F.log_softmax(out, dim=1).argmax(dim=1)\n",
    "        total += y_batch.size(0)\n",
    "        correct += (preds == y_batch).sum().item()\n",
    "    \n",
    "    acc = correct / total\n",
    "    acc_history.append(acc)\n",
    "\n",
    "    if epoch % base == 0:\n",
    "        print(f'Epoch: {epoch:3d}. Loss: {epoch_loss:.4f}. Acc.: {acc:2.2%}')\n",
    "        base *= step\n",
    "\n",
    "    if acc > best_acc:\n",
    "        trials = 0\n",
    "        best_acc = acc\n",
    "        torch.save(model.state_dict(), 'best.pth')\n",
    "        print(f'Epoch {epoch} best model saved with accuracy: {best_acc:2.2%}')\n",
    "    else:\n",
    "        trials += 1\n",
    "        if trials >= patience:\n",
    "            print(f'Early stopping on epoch {epoch}')\n",
    "            break\n",
    "            \n",
    "print('Done!')"
   ]
  },
  {
   "cell_type": "code",
   "execution_count": null,
   "metadata": {},
   "outputs": [],
   "source": [
    "def smooth(y, box_pts):\n",
    "    box = np.ones(box_pts)/box_pts\n",
    "    y_smooth = np.convolve(y, box, mode='same')\n",
    "    return y_smooth"
   ]
  },
  {
   "cell_type": "code",
   "execution_count": null,
   "metadata": {},
   "outputs": [],
   "source": [
    "f, ax = plt.subplots(1, 2, figsize=(12, 4))\n",
    "\n",
    "ax[0].plot(loss_history, label='loss')\n",
    "ax[0].set_title('Validation Loss History')\n",
    "ax[0].set_xlabel('Epoch no.')\n",
    "ax[0].set_ylabel('Loss')\n",
    "\n",
    "ax[1].plot(smooth(acc_history, 5)[:-2], label='acc')\n",
    "ax[1].set_title('Validation Accuracy History')\n",
    "ax[1].set_xlabel('Epoch no.')\n",
    "ax[1].set_ylabel('Accuracy');"
   ]
  },
  {
   "cell_type": "code",
   "execution_count": null,
   "metadata": {},
   "outputs": [],
   "source": []
  }
 ]
}